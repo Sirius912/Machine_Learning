{
 "cells": [
  {
   "cell_type": "markdown",
   "metadata": {},
   "source": [
    "# Gini Impurity"
   ]
  },
  {
   "cell_type": "markdown",
   "metadata": {},
   "source": [
    "### Gini Impurity ranges between 0 and 0.5. 0 represents a pure dataset and 0.5 represents a completely impure dataset."
   ]
  },
  {
   "cell_type": "markdown",
   "metadata": {},
   "source": [
    "![](Gini_Impurity_1.png)"
   ]
  },
  {
   "cell_type": "markdown",
   "metadata": {},
   "source": [
    "### The dataset that I used was taken from here and I uploaded as /Golf_dataset.csv. You can see more information through this link : https://sefiks.com/2018/08/27/a-step-by-step-cart-decision-tree-example/#google_vignette"
   ]
  },
  {
   "cell_type": "markdown",
   "metadata": {},
   "source": [
    "## Import Libraries"
   ]
  },
  {
   "cell_type": "code",
   "execution_count": 1,
   "metadata": {},
   "outputs": [],
   "source": [
    "import pandas as pd\n",
    "import numpy as np"
   ]
  },
  {
   "cell_type": "markdown",
   "metadata": {},
   "source": [
    "## Load the dataset"
   ]
  },
  {
   "cell_type": "code",
   "execution_count": 2,
   "metadata": {},
   "outputs": [],
   "source": [
    "data = pd.read_csv(\"./Golf_dataset.csv\")\n",
    "df = pd.DataFrame(data)"
   ]
  },
  {
   "cell_type": "code",
   "execution_count": 3,
   "metadata": {},
   "outputs": [
    {
     "data": {
      "text/html": [
       "<div>\n",
       "<style scoped>\n",
       "    .dataframe tbody tr th:only-of-type {\n",
       "        vertical-align: middle;\n",
       "    }\n",
       "\n",
       "    .dataframe tbody tr th {\n",
       "        vertical-align: top;\n",
       "    }\n",
       "\n",
       "    .dataframe thead th {\n",
       "        text-align: right;\n",
       "    }\n",
       "</style>\n",
       "<table border=\"1\" class=\"dataframe\">\n",
       "  <thead>\n",
       "    <tr style=\"text-align: right;\">\n",
       "      <th></th>\n",
       "      <th>Day</th>\n",
       "      <th>Outlook</th>\n",
       "      <th>Temp.</th>\n",
       "      <th>Humidity</th>\n",
       "      <th>Wind</th>\n",
       "      <th>Decision</th>\n",
       "    </tr>\n",
       "  </thead>\n",
       "  <tbody>\n",
       "    <tr>\n",
       "      <th>0</th>\n",
       "      <td>1</td>\n",
       "      <td>Sunny</td>\n",
       "      <td>Hot</td>\n",
       "      <td>High</td>\n",
       "      <td>Weak</td>\n",
       "      <td>No</td>\n",
       "    </tr>\n",
       "    <tr>\n",
       "      <th>1</th>\n",
       "      <td>2</td>\n",
       "      <td>Sunny</td>\n",
       "      <td>Hot</td>\n",
       "      <td>High</td>\n",
       "      <td>Strong</td>\n",
       "      <td>No</td>\n",
       "    </tr>\n",
       "    <tr>\n",
       "      <th>2</th>\n",
       "      <td>3</td>\n",
       "      <td>Overcast</td>\n",
       "      <td>Hot</td>\n",
       "      <td>High</td>\n",
       "      <td>Weak</td>\n",
       "      <td>Yes</td>\n",
       "    </tr>\n",
       "    <tr>\n",
       "      <th>3</th>\n",
       "      <td>4</td>\n",
       "      <td>Rain</td>\n",
       "      <td>Mild</td>\n",
       "      <td>High</td>\n",
       "      <td>Weak</td>\n",
       "      <td>Yes</td>\n",
       "    </tr>\n",
       "    <tr>\n",
       "      <th>4</th>\n",
       "      <td>5</td>\n",
       "      <td>Rain</td>\n",
       "      <td>Cool</td>\n",
       "      <td>Normal</td>\n",
       "      <td>Weak</td>\n",
       "      <td>Yes</td>\n",
       "    </tr>\n",
       "    <tr>\n",
       "      <th>5</th>\n",
       "      <td>6</td>\n",
       "      <td>Rain</td>\n",
       "      <td>Cool</td>\n",
       "      <td>Normal</td>\n",
       "      <td>Strong</td>\n",
       "      <td>No</td>\n",
       "    </tr>\n",
       "    <tr>\n",
       "      <th>6</th>\n",
       "      <td>7</td>\n",
       "      <td>Overcast</td>\n",
       "      <td>Cool</td>\n",
       "      <td>Normal</td>\n",
       "      <td>Strong</td>\n",
       "      <td>Yes</td>\n",
       "    </tr>\n",
       "    <tr>\n",
       "      <th>7</th>\n",
       "      <td>8</td>\n",
       "      <td>Sunny</td>\n",
       "      <td>Mild</td>\n",
       "      <td>High</td>\n",
       "      <td>Weak</td>\n",
       "      <td>No</td>\n",
       "    </tr>\n",
       "    <tr>\n",
       "      <th>8</th>\n",
       "      <td>9</td>\n",
       "      <td>Sunny</td>\n",
       "      <td>Cool</td>\n",
       "      <td>Normal</td>\n",
       "      <td>Weak</td>\n",
       "      <td>Yes</td>\n",
       "    </tr>\n",
       "    <tr>\n",
       "      <th>9</th>\n",
       "      <td>10</td>\n",
       "      <td>Rain</td>\n",
       "      <td>Mild</td>\n",
       "      <td>Normal</td>\n",
       "      <td>Weak</td>\n",
       "      <td>Yes</td>\n",
       "    </tr>\n",
       "    <tr>\n",
       "      <th>10</th>\n",
       "      <td>11</td>\n",
       "      <td>Sunny</td>\n",
       "      <td>Mild</td>\n",
       "      <td>Normal</td>\n",
       "      <td>Strong</td>\n",
       "      <td>Yes</td>\n",
       "    </tr>\n",
       "    <tr>\n",
       "      <th>11</th>\n",
       "      <td>12</td>\n",
       "      <td>Overcast</td>\n",
       "      <td>Mild</td>\n",
       "      <td>High</td>\n",
       "      <td>Strong</td>\n",
       "      <td>Yes</td>\n",
       "    </tr>\n",
       "    <tr>\n",
       "      <th>12</th>\n",
       "      <td>13</td>\n",
       "      <td>Overcast</td>\n",
       "      <td>Hot</td>\n",
       "      <td>Normal</td>\n",
       "      <td>Weak</td>\n",
       "      <td>Yes</td>\n",
       "    </tr>\n",
       "    <tr>\n",
       "      <th>13</th>\n",
       "      <td>14</td>\n",
       "      <td>Rain</td>\n",
       "      <td>Mild</td>\n",
       "      <td>High</td>\n",
       "      <td>Strong</td>\n",
       "      <td>No</td>\n",
       "    </tr>\n",
       "  </tbody>\n",
       "</table>\n",
       "</div>"
      ],
      "text/plain": [
       "    Day   Outlook Temp. Humidity    Wind Decision\n",
       "0     1     Sunny   Hot     High    Weak       No\n",
       "1     2     Sunny   Hot     High  Strong       No\n",
       "2     3  Overcast   Hot     High    Weak      Yes\n",
       "3     4      Rain  Mild     High    Weak      Yes\n",
       "4     5      Rain  Cool   Normal    Weak      Yes\n",
       "5     6      Rain  Cool   Normal  Strong       No\n",
       "6     7  Overcast  Cool   Normal  Strong      Yes\n",
       "7     8     Sunny  Mild     High    Weak       No\n",
       "8     9     Sunny  Cool   Normal    Weak      Yes\n",
       "9    10      Rain  Mild   Normal    Weak      Yes\n",
       "10   11     Sunny  Mild   Normal  Strong      Yes\n",
       "11   12  Overcast  Mild     High  Strong      Yes\n",
       "12   13  Overcast   Hot   Normal    Weak      Yes\n",
       "13   14      Rain  Mild     High  Strong       No"
      ]
     },
     "execution_count": 3,
     "metadata": {},
     "output_type": "execute_result"
    }
   ],
   "source": [
    "data"
   ]
  },
  {
   "cell_type": "code",
   "execution_count": 4,
   "metadata": {},
   "outputs": [],
   "source": [
    "# drop Day column\n",
    "# x = dataframe\n",
    "# y = Decision?"
   ]
  },
  {
   "cell_type": "markdown",
   "metadata": {},
   "source": [
    "### Check which values exist in the Decision column"
   ]
  },
  {
   "cell_type": "code",
   "execution_count": 5,
   "metadata": {},
   "outputs": [
    {
     "name": "stdout",
     "output_type": "stream",
     "text": [
      "['No', 'Yes']\n"
     ]
    }
   ],
   "source": [
    "sample_num = df.shape[0]\n",
    "decision_values = []\n",
    "for i in range(sample_num):\n",
    "    if df.loc[i, 'Decision'] not in decision_values:\n",
    "        decision_values.append(df.loc[i, 'Decision'])\n",
    "print(decision_values)"
   ]
  },
  {
   "cell_type": "markdown",
   "metadata": {},
   "source": [
    "## Functions to compute the models"
   ]
  },
  {
   "cell_type": "markdown",
   "metadata": {},
   "source": [
    "### Making table function"
   ]
  },
  {
   "cell_type": "code",
   "execution_count": 6,
   "metadata": {},
   "outputs": [],
   "source": [
    "def MakeTable(df, feature):\n",
    "    table = pd.DataFrame(columns=['value', 'Yes', 'No', 'Total_num', 'Gini_Impurity'])\n",
    "\n",
    "    for i in range(sample_num):\n",
    "        # Fill values table\n",
    "        if df.loc[i, feature] not in table['value'].values:    # converts the series into a numpy array\n",
    "            table.loc[len(table), 'value'] = df.loc[i, feature]\n",
    "            \n",
    "            # Initialize other column's value\n",
    "            table.loc[len(table)-1, 'No'] = 0\n",
    "            table.loc[len(table)-1, 'Yes'] = 0\n",
    "            table.loc[len(table)-1, 'Total_num'] = 0\n",
    "            table.loc[len(table)-1, 'Gini_Impurity'] = 0.0\n",
    "\n",
    "        # Calculate numbers for each value\n",
    "        for j in range(len(table)):        \n",
    "            if df.loc[i, feature] == table.loc[j, 'value']:\n",
    "                table.loc[j, 'Total_num'] += 1\n",
    "                if df.loc[i, 'Decision'] == 'Yes':\n",
    "                    table.loc[j, 'Yes'] += 1\n",
    "                else:\n",
    "                    table.loc[j, 'No'] += 1\n",
    "                    \n",
    "    return table"
   ]
  },
  {
   "cell_type": "markdown",
   "metadata": {},
   "source": [
    "### Gini impurity function"
   ]
  },
  {
   "cell_type": "code",
   "execution_count": 7,
   "metadata": {},
   "outputs": [],
   "source": [
    "def Gini_Impurity(table):\n",
    "    gini_impurity = 0\n",
    "    for i in range(table.shape[0]):\n",
    "        # calculate gini impurity of specific value\n",
    "        table.loc[i, 'Gini_Impurity'] = 1 - pow(table.loc[i, 'Yes']/table.loc[i, 'Total_num'], 2) - pow(table.loc[i, 'No']/table.loc[i, 'Total_num'], 2)\n",
    "        gini_impurity += table.loc[i, 'Gini_Impurity'] * (table.loc[i, 'Total_num']/sample_num)\n",
    "        \n",
    "    return gini_impurity, table"
   ]
  },
  {
   "cell_type": "markdown",
   "metadata": {},
   "source": [
    "## Test functions"
   ]
  },
  {
   "cell_type": "code",
   "execution_count": 8,
   "metadata": {},
   "outputs": [
    {
     "name": "stdout",
     "output_type": "stream",
     "text": [
      "\n",
      "======== Outlook Table ========\n",
      "      value Yes No Total_num Gini_Impurity\n",
      "0     Sunny   2  3         5           0.0\n",
      "1  Overcast   4  0         4           0.0\n",
      "2      Rain   3  2         5           0.0\n",
      "\n",
      "======== Final Outlook Table ========\n",
      "      value Yes No Total_num Gini_Impurity\n",
      "0     Sunny   2  3         5          0.48\n",
      "1  Overcast   4  0         4           0.0\n",
      "2      Rain   3  2         5          0.48\n",
      "Gini Impurity of [ Outlook ] = 0.34285714285714286\n"
     ]
    }
   ],
   "source": [
    "feature = 'Outlook'\n",
    "\n",
    "# Make table first\n",
    "table = MakeTable(df, feature)\n",
    "print('\\n========', feature, 'Table ========')\n",
    "print(table)\n",
    "\n",
    "# Calculate gini impurity\n",
    "gini_impurity, table = Gini_Impurity(table)\n",
    "print('\\n======== Final', feature, 'Table ========')\n",
    "print(table)\n",
    "print('Gini Impurity of [', feature, '] =', gini_impurity)"
   ]
  },
  {
   "cell_type": "markdown",
   "metadata": {},
   "source": [
    "## Things to do\n",
    "1. Convert Decision part -> more flexible usage\n",
    "2. Print impurity each column"
   ]
  }
 ],
 "metadata": {
  "kernelspec": {
   "display_name": "base",
   "language": "python",
   "name": "python3"
  },
  "language_info": {
   "codemirror_mode": {
    "name": "ipython",
    "version": 3
   },
   "file_extension": ".py",
   "mimetype": "text/x-python",
   "name": "python",
   "nbconvert_exporter": "python",
   "pygments_lexer": "ipython3",
   "version": "3.11.7"
  }
 },
 "nbformat": 4,
 "nbformat_minor": 2
}
